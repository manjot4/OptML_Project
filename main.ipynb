{
 "cells": [
  {
   "cell_type": "code",
   "execution_count": null,
   "metadata": {},
   "outputs": [],
   "source": [
    "# Importing Libraries\n",
    "from __future__ import print_function\n",
    "import torch\n",
    "import torch.nn as nn\n",
    "import torch.nn.functional as F\n",
    "import torch.optim as optim\n",
    "from torchvision import datasets, transforms\n",
    "from torch.optim.lr_scheduler import StepLR\n",
    "import argparse\n",
    "\n",
    "from model import *\n",
    "from utils import *"
   ]
  },
  {
   "cell_type": "code",
   "execution_count": null,
   "metadata": {},
   "outputs": [],
   "source": [
    "batch_size = 64\n",
    "test_batch_size = 1000\n",
    "epochs = 14\n",
    "lr = .1\n",
    "gamma = 0.7\n",
    "seed = 1\n",
    "torch.manual_seed(seed)\n",
    "device = torch.device(\"cuda\" if torch.cuda.is_available() else \"cpu\")\n",
    "\n",
    "use_cuda = torch.cuda.is_available()\n",
    "train_loader, test_loader = dataloaders(batch_size, use_cuda)\n",
    "model = Net().to(device)\n",
    "\n",
    "# CHANGE AS APPROPRIATE\n",
    "optimizer = optim.Adadelta(model.parameters(), lr=lr)\n",
    "# optimizer = optim.LBFGS(model.parameters(), lr=lr, *args)\n",
    "scheduler = StepLR(optimizer, step_size=1, gamma=gamma)\n",
    "# saving checkpoints during/after training;;;can save other variables as well\n",
    "checkpoint = {'state_dict': model.state_dict(),'optimizer': optimizer.state_dict()}\n",
    "train_losses, test_losses = [], []"
   ]
  },
  {
   "cell_type": "code",
   "execution_count": null,
   "metadata": {},
   "outputs": [],
   "source": [
    "def main():\n",
    "    for epoch in range(1, epochs + 1):\n",
    "            train_loss = train(model, device, train_loader, optimizer, epoch)\n",
    "            train_losses.append(train_loss)\n",
    "#             save_checkpoint(checkpoint) #Change file path as appropriate\n",
    "            test_loss = test(model, device, test_loader)\n",
    "            test_losses.append(test_loss)\n",
    "            scheduler.step()\n",
    "    show_losses(train_losses, test_losses)\n",
    "        \n",
    "if __name__ == '__main__':\n",
    "    main()        "
   ]
  }
 ],
 "metadata": {
  "kernelspec": {
   "display_name": "Python 3",
   "language": "python",
   "name": "python3"
  },
  "language_info": {
   "codemirror_mode": {
    "name": "ipython",
    "version": 3
   },
   "file_extension": ".py",
   "mimetype": "text/x-python",
   "name": "python",
   "nbconvert_exporter": "python",
   "pygments_lexer": "ipython3",
   "version": "3.7.0"
  }
 },
 "nbformat": 4,
 "nbformat_minor": 4
}
