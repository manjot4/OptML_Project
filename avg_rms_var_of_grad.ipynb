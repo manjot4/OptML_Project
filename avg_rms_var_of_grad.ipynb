{
  "nbformat": 4,
  "nbformat_minor": 0,
  "metadata": {
    "colab": {
      "name": "avg_rms_var_of_grad.ipynb",
      "provenance": [],
      "collapsed_sections": []
    },
    "kernelspec": {
      "name": "python3",
      "display_name": "Python 3"
    },
    "accelerator": "GPU"
  },
  "cells": [
    {
      "cell_type": "code",
      "metadata": {
        "id": "ALy15We42OkT",
        "colab_type": "code",
        "outputId": "95938978-4d0e-4491-a743-a4fab94a458a",
        "colab": {
          "base_uri": "https://localhost:8080/",
          "height": 68
        }
      },
      "source": [
        "%tensorflow_version 2.x\n",
        "import tensorflow as tf\n",
        "device = tf.test.gpu_device_name()\n",
        "if device != '/device:GPU:0':\n",
        "  raise SystemError('GPU device not found')\n",
        "print('Found GPU at: {}'.format(device))\n",
        "\n",
        "from google.colab import drive\n",
        "drive.mount('/content/drive')\n",
        "\n",
        "\n",
        "%cd /content/drive/My Drive/Colab Notebooks"
      ],
      "execution_count": 8,
      "outputs": [
        {
          "output_type": "stream",
          "text": [
            "Found GPU at: /device:GPU:0\n",
            "Drive already mounted at /content/drive; to attempt to forcibly remount, call drive.mount(\"/content/drive\", force_remount=True).\n",
            "/content/drive/My Drive/Colab Notebooks\n"
          ],
          "name": "stdout"
        }
      ]
    },
    {
      "cell_type": "code",
      "metadata": {
        "id": "Oj-ENcIs2X2t",
        "colab_type": "code",
        "colab": {}
      },
      "source": [
        "# Importing Libraries\n",
        "from __future__ import print_function\n",
        "import torch\n",
        "import torch.nn as nn\n",
        "import torch.nn.functional as F\n",
        "\n",
        "import torch.optim as optim\n",
        "from torchvision import datasets, transforms\n",
        "from torch.optim.lr_scheduler import StepLR\n",
        "import argparse, copy\n",
        "\n",
        "from model import *\n",
        "from utils import *\n",
        "from measures import *"
      ],
      "execution_count": 0,
      "outputs": []
    },
    {
      "cell_type": "code",
      "metadata": {
        "id": "vPYqRZM_2X5S",
        "colab_type": "code",
        "outputId": "5a943167-cf8b-4d6b-8f51-ad0353b77fbd",
        "colab": {
          "base_uri": "https://localhost:8080/",
          "height": 1000
        }
      },
      "source": [
        "avg_train_losses, avg_test_losses, avg_difference_test_train, avg_var_grad = [], [], [], []\n",
        "\n",
        "seeds = [12345, 1234, 123]\n",
        "# seeds = [12345]\n",
        "for seed in seeds:\n",
        "    print (\"seed:::\", seed)\n",
        "    torch.manual_seed(seed)\n",
        "    device = torch.device(\"cuda\" if torch.cuda.is_available() else \"cpu\")\n",
        "\n",
        "    # Model Hyperparamters\n",
        "    batch_size = 64\n",
        "    epochs = 14\n",
        "    lr = 3e-6 # good one - lowest validation loss among others\n",
        "    gamma = 0.7\n",
        "    momentum = 0.9\n",
        "\n",
        "    use_cuda = torch.cuda.is_available()\n",
        "    train_loader, val_loader, test_loader, train_size, val_size = dataloaders(batch_size, use_cuda, seed)\n",
        "    print (train_size, val_size, len(test_loader.dataset))\n",
        "\n",
        "    model = Net().to(device)\n",
        "\n",
        "    train_losses, test_losses = [], []\n",
        "    var_grad_list = []\n",
        "\n",
        "    optimizer = optim.RMSprop(model.parameters(), lr=lr, momentum=momentum)\n",
        "    scheduler = StepLR(optimizer, step_size=1, gamma=gamma)\n",
        "\n",
        "    for epoch in range(1, epochs + 1):\n",
        "        train_loss = train(model, device, train_loader, optimizer, epoch, batch_size)\n",
        "        train_losses.append(train_loss)\n",
        "        train_loss, grad_norms, grad_avg = train_get_grad(model, device, train_loader, optimizer, epoch, batch_size)\n",
        "        test_loss = test(model, device, test_loader, batch_size)\n",
        "        test_losses.append(test_loss)\n",
        "        scheduler.step()\n",
        "\n",
        "        # computing var_score over one epoch\n",
        "        variance_score = compute_grad_variance(grad_norms, grad_avg)\n",
        "        var_grad_list.append(variance_score)\n",
        "    \n",
        "    avg_train_losses.append(train_losses) \n",
        "    avg_test_losses.append(test_losses)\n",
        "    avg_var_grad.append(var_grad_list)\n",
        "\n",
        "    # print train and test losses and their difference\n",
        "    difference_test_train = np.array(test_losses)  - np.array(train_losses)\n",
        "    # print (\"diff_test_train::\\n\", difference_test_train)\n",
        "    avg_difference_test_train.append(difference_test_train)\n"
      ],
      "execution_count": 10,
      "outputs": [
        {
          "output_type": "stream",
          "text": [
            "seed::: 12345\n",
            "54000 6000 10000\n",
            "\n",
            "Test set: Average loss: 0.6981, Accuracy: 7524/10000 (75%)\n",
            "\n",
            "\n",
            "Test set: Average loss: 0.6425, Accuracy: 7644/10000 (76%)\n",
            "\n",
            "\n",
            "Test set: Average loss: 0.6270, Accuracy: 7669/10000 (77%)\n",
            "\n",
            "\n",
            "Test set: Average loss: 0.6112, Accuracy: 7706/10000 (77%)\n",
            "\n",
            "\n",
            "Test set: Average loss: 0.6060, Accuracy: 7718/10000 (77%)\n",
            "\n",
            "\n",
            "Test set: Average loss: 0.6030, Accuracy: 7722/10000 (77%)\n",
            "\n",
            "\n",
            "Test set: Average loss: 0.5963, Accuracy: 7725/10000 (77%)\n",
            "\n",
            "\n",
            "Test set: Average loss: 0.5942, Accuracy: 7732/10000 (77%)\n",
            "\n",
            "\n",
            "Test set: Average loss: 0.5922, Accuracy: 7734/10000 (77%)\n",
            "\n",
            "\n",
            "Test set: Average loss: 0.5910, Accuracy: 7737/10000 (77%)\n",
            "\n",
            "\n",
            "Test set: Average loss: 0.5922, Accuracy: 7736/10000 (77%)\n",
            "\n",
            "\n",
            "Test set: Average loss: 0.5896, Accuracy: 7735/10000 (77%)\n",
            "\n",
            "\n",
            "Test set: Average loss: 0.5907, Accuracy: 7738/10000 (77%)\n",
            "\n",
            "\n",
            "Test set: Average loss: 0.5909, Accuracy: 7736/10000 (77%)\n",
            "\n",
            "seed::: 1234\n",
            "54000 6000 10000\n",
            "\n",
            "Test set: Average loss: 0.2462, Accuracy: 9300/10000 (93%)\n",
            "\n",
            "\n",
            "Test set: Average loss: 0.1982, Accuracy: 9435/10000 (94%)\n",
            "\n",
            "\n",
            "Test set: Average loss: 0.1770, Accuracy: 9479/10000 (95%)\n",
            "\n",
            "\n",
            "Test set: Average loss: 0.1605, Accuracy: 9527/10000 (95%)\n",
            "\n",
            "\n",
            "Test set: Average loss: 0.1548, Accuracy: 9532/10000 (95%)\n",
            "\n",
            "\n",
            "Test set: Average loss: 0.1476, Accuracy: 9555/10000 (96%)\n",
            "\n",
            "\n",
            "Test set: Average loss: 0.1451, Accuracy: 9568/10000 (96%)\n",
            "\n",
            "\n",
            "Test set: Average loss: 0.1440, Accuracy: 9571/10000 (96%)\n",
            "\n",
            "\n",
            "Test set: Average loss: 0.1411, Accuracy: 9586/10000 (96%)\n",
            "\n",
            "\n",
            "Test set: Average loss: 0.1398, Accuracy: 9579/10000 (96%)\n",
            "\n",
            "\n",
            "Test set: Average loss: 0.1396, Accuracy: 9580/10000 (96%)\n",
            "\n",
            "\n",
            "Test set: Average loss: 0.1404, Accuracy: 9584/10000 (96%)\n",
            "\n",
            "\n",
            "Test set: Average loss: 0.1393, Accuracy: 9584/10000 (96%)\n",
            "\n",
            "\n",
            "Test set: Average loss: 0.1384, Accuracy: 9590/10000 (96%)\n",
            "\n",
            "seed::: 123\n",
            "54000 6000 10000\n",
            "\n",
            "Test set: Average loss: 0.2437, Accuracy: 9312/10000 (93%)\n",
            "\n",
            "\n",
            "Test set: Average loss: 0.2022, Accuracy: 9422/10000 (94%)\n",
            "\n",
            "\n",
            "Test set: Average loss: 0.1756, Accuracy: 9493/10000 (95%)\n",
            "\n",
            "\n",
            "Test set: Average loss: 0.1623, Accuracy: 9524/10000 (95%)\n",
            "\n",
            "\n",
            "Test set: Average loss: 0.1556, Accuracy: 9546/10000 (95%)\n",
            "\n",
            "\n",
            "Test set: Average loss: 0.1488, Accuracy: 9551/10000 (96%)\n",
            "\n",
            "\n",
            "Test set: Average loss: 0.1454, Accuracy: 9556/10000 (96%)\n",
            "\n",
            "\n",
            "Test set: Average loss: 0.1424, Accuracy: 9562/10000 (96%)\n",
            "\n",
            "\n",
            "Test set: Average loss: 0.1412, Accuracy: 9565/10000 (96%)\n",
            "\n",
            "\n",
            "Test set: Average loss: 0.1398, Accuracy: 9574/10000 (96%)\n",
            "\n",
            "\n",
            "Test set: Average loss: 0.1390, Accuracy: 9576/10000 (96%)\n",
            "\n",
            "\n",
            "Test set: Average loss: 0.1383, Accuracy: 9575/10000 (96%)\n",
            "\n",
            "\n",
            "Test set: Average loss: 0.1392, Accuracy: 9575/10000 (96%)\n",
            "\n",
            "\n",
            "Test set: Average loss: 0.1394, Accuracy: 9577/10000 (96%)\n",
            "\n"
          ],
          "name": "stdout"
        }
      ]
    },
    {
      "cell_type": "code",
      "metadata": {
        "id": "xeaeh7W_2X8K",
        "colab_type": "code",
        "outputId": "55099274-1cb9-41f6-e8b0-790345db5e28",
        "colab": {
          "base_uri": "https://localhost:8080/",
          "height": 207
        }
      },
      "source": [
        "print (avg_train_losses)\n",
        "print (avg_test_losses)\n",
        "print (avg_difference_test_train)\n",
        "print (avg_var_grad)"
      ],
      "execution_count": 11,
      "outputs": [
        {
          "output_type": "stream",
          "text": [
            "[[0.8669650259105515, 0.6719401888725882, 0.6352557795590134, 0.6157170342043112, 0.6038529207285547, 0.5962399338941439, 0.5910820346943575, 0.5876210403774305, 0.585567649701054, 0.5837768131769946, 0.5827306121658374, 0.582005541365576, 0.5813868189521876, 0.5810276317935419], [0.4330450741671273, 0.22692347182870193, 0.18747574738910977, 0.16589540443537643, 0.15291770578083974, 0.1447532365178045, 0.1394654826539176, 0.13568470284996015, 0.13323758331555607, 0.1315378380003628, 0.13039952873194952, 0.1295450965375132, 0.1289471288948757, 0.12857737476491674], [0.42951262900296827, 0.2301675612945551, 0.19087305961626966, 0.16912163233481595, 0.1562808897408052, 0.14793733620389377, 0.14239944691076803, 0.1387860037218691, 0.13624627300719092, 0.13450777350585041, 0.13326524323850023, 0.13242018490288213, 0.1317863711928375, 0.13141734230274696]]\n",
            "[[0.6981124297069137, 0.6424992758377343, 0.6269944389914252, 0.6112439436897351, 0.6060073780026406, 0.6030151225199365, 0.5963177865098237, 0.5942073437818296, 0.5922274910340644, 0.5910008892322042, 0.592201441526413, 0.589579828225883, 0.5907132295286579, 0.5909383097651658], [0.24618351288661836, 0.1982062094055923, 0.17697478484386092, 0.1605432258479914, 0.15478999072768887, 0.14763308287995636, 0.14513967646535036, 0.14402190868736833, 0.14111244763917985, 0.13981650019906888, 0.13959605469825162, 0.14039005801840954, 0.13929536316994648, 0.13841983825442897], [0.24366302641144225, 0.20221750661256208, 0.1756335739876814, 0.16229645912624469, 0.15556116824506955, 0.14884788785011147, 0.14539905343275922, 0.1423575528393126, 0.14115282043719748, 0.13978889726909102, 0.13901066099097775, 0.1383397776609773, 0.13917683083919963, 0.1394259009249271]]\n",
            "[array([-0.1688526 , -0.02944091, -0.00826134, -0.00447309,  0.00215446,\n",
            "        0.00677519,  0.00523575,  0.0065863 ,  0.00665984,  0.00722408,\n",
            "        0.00947083,  0.00757429,  0.00932641,  0.00991068]), array([-0.18686156, -0.02871726, -0.01050096, -0.00535218,  0.00187228,\n",
            "        0.00287985,  0.00567419,  0.00833721,  0.00787486,  0.00827866,\n",
            "        0.00919653,  0.01084496,  0.01034823,  0.00984246]), array([-0.1858496 , -0.02795005, -0.01523949, -0.00682517, -0.00071972,\n",
            "        0.00091055,  0.00299961,  0.00357155,  0.00490655,  0.00528112,\n",
            "        0.00574542,  0.00591959,  0.00739046,  0.00800856])]\n",
            "[[tensor(2.3049), tensor(1.9405), tensor(1.8355), tensor(1.7527), tensor(1.6830), tensor(1.7178), tensor(1.6087), tensor(1.6077), tensor(1.5777), tensor(1.6071), tensor(1.6039), tensor(1.5669), tensor(1.5930), tensor(1.5804)], [tensor(3.3226), tensor(2.9025), tensor(2.5714), tensor(2.4449), tensor(2.4309), tensor(2.3136), tensor(2.2661), tensor(2.2183), tensor(2.2008), tensor(2.1990), tensor(2.1734), tensor(2.1979), tensor(2.1856), tensor(2.1950)], [tensor(3.3449), tensor(2.9356), tensor(2.6525), tensor(2.4980), tensor(2.3662), tensor(2.3999), tensor(2.3511), tensor(2.2534), tensor(2.2617), tensor(2.2513), tensor(2.2503), tensor(2.2520), tensor(2.2577), tensor(2.2584)]]\n"
          ],
          "name": "stdout"
        }
      ]
    },
    {
      "cell_type": "code",
      "metadata": {
        "id": "riLC3s-l2X-9",
        "colab_type": "code",
        "outputId": "5c07fc79-047b-4f63-da71-58c24768ea11",
        "colab": {
          "base_uri": "https://localhost:8080/",
          "height": 85
        }
      },
      "source": [
        "# Average over 3 random seeds\n",
        "avg_train_losses = np.mean(np.array(avg_train_losses), 0)\n",
        "avg_test_losses = np.mean(np.array(avg_test_losses), 0)\n",
        "avg_difference_test_train = np.mean(np.array(avg_difference_test_train), 0)\n",
        "avg_var_grad = np.mean(np.array(avg_var_grad), 0)\n",
        "\n",
        "\n",
        "# print (\"avg_train_losses:::\\n\", avg_train_losses)\n",
        "# print (\"avg_test_losses:::\\n\", avg_test_losses)\n",
        "print (\"average difference list::\\n\", avg_difference_test_train)\n"
      ],
      "execution_count": 12,
      "outputs": [
        {
          "output_type": "stream",
          "text": [
            "average difference list::\n",
            " [-0.18052125 -0.02870274 -0.01133393 -0.00555015  0.00110234  0.00352186\n",
            "  0.00463652  0.00616502  0.00648042  0.00692795  0.00813759  0.00811295\n",
            "  0.0090217   0.0092539 ]\n"
          ],
          "name": "stdout"
        }
      ]
    },
    {
      "cell_type": "code",
      "metadata": {
        "id": "sG0VMP3o8mQj",
        "colab_type": "code",
        "outputId": "3c3d835b-48aa-4050-90f9-0c07310fd8d7",
        "colab": {
          "base_uri": "https://localhost:8080/",
          "height": 68
        }
      },
      "source": [
        "print (\"avg_var_grad::\\n\", avg_var_grad)"
      ],
      "execution_count": 13,
      "outputs": [
        {
          "output_type": "stream",
          "text": [
            "avg_var_grad::\n",
            " [2.9907715 2.5928452 2.353145  2.231897  2.1600416 2.1437852 2.075268\n",
            " 2.0264657 2.0134056 2.0191548 2.009188  2.0055988 2.0121212 2.0112855]\n"
          ],
          "name": "stdout"
        }
      ]
    },
    {
      "cell_type": "code",
      "metadata": {
        "id": "iE9qLMHr2YB4",
        "colab_type": "code",
        "outputId": "ab5a04d1-02b0-4fd4-84df-9d618379f6e0",
        "colab": {
          "base_uri": "https://localhost:8080/",
          "height": 295
        }
      },
      "source": [
        "import numpy as np\n",
        "plt.plot(np.arange(epochs), avg_var_grad, marker='o', color = \"g\")\n",
        "plt.grid(True, linestyle='-.')\n",
        "plt.title(\"Variance of Gradients - RMSPROP\")\n",
        "plt.ylabel(\"Variance of gradients\")\n",
        "plt.xlabel(\"Epochs\")\n",
        "plt.show()\t  "
      ],
      "execution_count": 14,
      "outputs": [
        {
          "output_type": "display_data",
          "data": {
            "image/png": "[encoded data removed]",
            "text/plain": [
              "<Figure size 432x288 with 1 Axes>"
            ]
          },
          "metadata": {
            "tags": [],
            "needs_background": "light"
          }
        }
      ]
    },
    {
      "cell_type": "code",
      "metadata": {
        "id": "fVFLMBRJ2YE1",
        "colab_type": "code",
        "colab": {
          "base_uri": "https://localhost:8080/",
          "height": 51
        },
        "outputId": "bfd8e357-5940-453b-fe3d-34522d6dcca6"
      },
      "source": [
        "a = torch.tensor([1.0,2,3,4])\n",
        "print (torch.norm(a))\n",
        "print (torch.norm(a), 2)"
      ],
      "execution_count": 18,
      "outputs": [
        {
          "output_type": "stream",
          "text": [
            "tensor(5.4772)\n",
            "tensor(5.4772) 2\n"
          ],
          "name": "stdout"
        }
      ]
    },
    {
      "cell_type": "code",
      "metadata": {
        "id": "cX1skDv42YHd",
        "colab_type": "code",
        "colab": {
          "base_uri": "https://localhost:8080/",
          "height": 34
        },
        "outputId": "c5b08227-d46f-4b53-9174-fc136b1c3875"
      },
      "source": [
        "5.4772*5.4772/"
      ],
      "execution_count": 19,
      "outputs": [
        {
          "output_type": "execute_result",
          "data": {
            "text/plain": [
              "29.999719839999997"
            ]
          },
          "metadata": {
            "tags": []
          },
          "execution_count": 19
        }
      ]
    }
  ]
}