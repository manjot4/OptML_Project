{
  "nbformat": 4,
  "nbformat_minor": 0,
  "metadata": {
    "colab": {
      "name": "avg_rms_var_of_grad.ipynb",
      "provenance": [],
      "collapsed_sections": []
    },
    "kernelspec": {
      "name": "python3",
      "display_name": "Python 3"
    },
    "accelerator": "GPU"
  },
  "cells": [
    {
      "cell_type": "code",
      "metadata": {
        "id": "ALy15We42OkT",
        "colab_type": "code",
        "colab": {
          "base_uri": "https://localhost:8080/",
          "height": 88
        },
        "outputId": "591fa80d-d034-4f5c-9e7e-e6c7368eb41d"
      },
      "source": [
        "%tensorflow_version 2.x\n",
        "import tensorflow as tf\n",
        "device = tf.test.gpu_device_name()\n",
        "if device != '/device:GPU:0':\n",
        "  raise SystemError('GPU device not found')\n",
        "print('Found GPU at: {}'.format(device))\n",
        "\n",
        "from google.colab import drive\n",
        "drive.mount('/content/drive')\n",
        "\n",
        "\n",
        "%cd /content/drive/My Drive/Colab Notebooks"
      ],
      "execution_count": 1,
      "outputs": [
        {
          "output_type": "stream",
          "text": [
            "Found GPU at: /device:GPU:0\n",
            "Drive already mounted at /content/drive; to attempt to forcibly remount, call drive.mount(\"/content/drive\", force_remount=True).\n",
            "/content/drive/My Drive/Colab Notebooks\n"
          ],
          "name": "stdout"
        }
      ]
    },
    {
      "cell_type": "code",
      "metadata": {
        "id": "Oj-ENcIs2X2t",
        "colab_type": "code",
        "colab": {}
      },
      "source": [
        "# Importing Libraries\n",
        "from __future__ import print_function\n",
        "import torch\n",
        "import torch.nn as nn\n",
        "import torch.nn.functional as F\n",
        "\n",
        "import torch.optim as optim\n",
        "from torchvision import datasets, transforms\n",
        "from torch.optim.lr_scheduler import StepLR\n",
        "import argparse, copy\n",
        "\n",
        "from model import *\n",
        "from utils import *\n",
        "from measures import *"
      ],
      "execution_count": 0,
      "outputs": []
    },
    {
      "cell_type": "code",
      "metadata": {
        "id": "vPYqRZM_2X5S",
        "colab_type": "code",
        "colab": {
          "base_uri": "https://localhost:8080/",
          "height": 1000
        },
        "outputId": "b10112e7-fc53-46de-b2cd-c36721456428"
      },
      "source": [
        "avg_train_losses, avg_test_losses, avg_difference_test_train, avg_var_grad = [], [], [], []\n",
        "\n",
        "seeds = [12345, 1234, 123]\n",
        "for seed in seeds:\n",
        "    print (\"seed:::\", seed)\n",
        "    torch.manual_seed(seed)\n",
        "    device = torch.device(\"cuda\" if torch.cuda.is_available() else \"cpu\")\n",
        "\n",
        "    # Model Hyperparamters\n",
        "    batch_size = 64\n",
        "    epochs = 14\n",
        "    lr = 3e-6 # good one - lowest validation loss among others\n",
        "    gamma = 0.7\n",
        "    momentum = 0.9\n",
        "\n",
        "    use_cuda = torch.cuda.is_available()\n",
        "    train_loader, val_loader, test_loader, train_size, val_size = dataloaders(batch_size, use_cuda, seed)\n",
        "    print (train_size, val_size, len(test_loader.dataset))\n",
        "\n",
        "    model = Net().to(device)\n",
        "\n",
        "    train_losses, test_losses = [], []\n",
        "    var_grad_list = []\n",
        "\n",
        "    optimizer = optim.RMSprop(model.parameters(), lr=lr, momentum=momentum)\n",
        "    scheduler = StepLR(optimizer, step_size=1, gamma=gamma)\n",
        "\n",
        "    for epoch in range(1, epochs + 1):\n",
        "        train_loss, grad_norms, grad_avg = train_get_grad(model, device, train_loader, optimizer, epoch, batch_size)\n",
        "        train_losses.append(train_loss)\n",
        "        test_loss = test(model, device, test_loader, batch_size)\n",
        "        test_losses.append(test_loss)\n",
        "        scheduler.step()\n",
        "\n",
        "        # computing var_score over one epoch\n",
        "        variance_score = compute_grad_variance(grad_norms, grad_avg)\n",
        "        var_grad_list.append(variance_score)\n",
        "    \n",
        "    avg_train_losses.append(train_losses) \n",
        "    avg_test_losses.append(test_losses)\n",
        "    avg_var_grad.append(var_grad_list)\n",
        "\n",
        "    # print train and test losses and their difference\n",
        "    difference_test_train = np.array(test_losses)  - np.array(train_losses)\n",
        "    # print (\"diff_test_train::\\n\", difference_test_train)\n",
        "    avg_difference_test_train.append(difference_test_train)\n"
      ],
      "execution_count": 3,
      "outputs": [
        {
          "output_type": "stream",
          "text": [
            "seed::: 12345\n",
            "54000 6000 10000\n",
            "\n",
            "Test set: Average loss: 0.6932, Accuracy: 7525/10000 (75%)\n",
            "\n",
            "\n",
            "Test set: Average loss: 0.6466, Accuracy: 7638/10000 (76%)\n",
            "\n",
            "\n",
            "Test set: Average loss: 0.6223, Accuracy: 7674/10000 (77%)\n",
            "\n",
            "\n",
            "Test set: Average loss: 0.6134, Accuracy: 7706/10000 (77%)\n",
            "\n",
            "\n",
            "Test set: Average loss: 0.6045, Accuracy: 7718/10000 (77%)\n",
            "\n",
            "\n",
            "Test set: Average loss: 0.6021, Accuracy: 7724/10000 (77%)\n",
            "\n",
            "\n",
            "Test set: Average loss: 0.5955, Accuracy: 7726/10000 (77%)\n",
            "\n",
            "\n",
            "Test set: Average loss: 0.5953, Accuracy: 7732/10000 (77%)\n",
            "\n",
            "\n",
            "Test set: Average loss: 0.5929, Accuracy: 7734/10000 (77%)\n",
            "\n",
            "\n",
            "Test set: Average loss: 0.5930, Accuracy: 7734/10000 (77%)\n",
            "\n",
            "\n",
            "Test set: Average loss: 0.5932, Accuracy: 7733/10000 (77%)\n",
            "\n",
            "\n",
            "Test set: Average loss: 0.5899, Accuracy: 7735/10000 (77%)\n",
            "\n",
            "\n",
            "Test set: Average loss: 0.5927, Accuracy: 7734/10000 (77%)\n",
            "\n",
            "\n",
            "Test set: Average loss: 0.5917, Accuracy: 7735/10000 (77%)\n",
            "\n",
            "seed::: 1234\n",
            "54000 6000 10000\n",
            "\n",
            "Test set: Average loss: 0.2457, Accuracy: 9298/10000 (93%)\n",
            "\n",
            "\n",
            "Test set: Average loss: 0.2029, Accuracy: 9403/10000 (94%)\n",
            "\n",
            "\n",
            "Test set: Average loss: 0.1748, Accuracy: 9465/10000 (95%)\n",
            "\n",
            "\n",
            "Test set: Average loss: 0.1620, Accuracy: 9513/10000 (95%)\n",
            "\n",
            "\n",
            "Test set: Average loss: 0.1535, Accuracy: 9545/10000 (95%)\n",
            "\n",
            "\n",
            "Test set: Average loss: 0.1495, Accuracy: 9559/10000 (96%)\n",
            "\n",
            "\n",
            "Test set: Average loss: 0.1454, Accuracy: 9566/10000 (96%)\n",
            "\n",
            "\n",
            "Test set: Average loss: 0.1429, Accuracy: 9578/10000 (96%)\n",
            "\n",
            "\n",
            "Test set: Average loss: 0.1415, Accuracy: 9566/10000 (96%)\n",
            "\n",
            "\n",
            "Test set: Average loss: 0.1406, Accuracy: 9580/10000 (96%)\n",
            "\n",
            "\n",
            "Test set: Average loss: 0.1388, Accuracy: 9576/10000 (96%)\n",
            "\n",
            "\n",
            "Test set: Average loss: 0.1383, Accuracy: 9579/10000 (96%)\n",
            "\n",
            "\n",
            "Test set: Average loss: 0.1381, Accuracy: 9578/10000 (96%)\n",
            "\n",
            "\n",
            "Test set: Average loss: 0.1383, Accuracy: 9582/10000 (96%)\n",
            "\n",
            "seed::: 123\n",
            "54000 6000 10000\n",
            "\n",
            "Test set: Average loss: 0.2428, Accuracy: 9314/10000 (93%)\n",
            "\n",
            "\n",
            "Test set: Average loss: 0.2012, Accuracy: 9412/10000 (94%)\n",
            "\n",
            "\n",
            "Test set: Average loss: 0.1765, Accuracy: 9480/10000 (95%)\n",
            "\n",
            "\n",
            "Test set: Average loss: 0.1625, Accuracy: 9519/10000 (95%)\n",
            "\n",
            "\n",
            "Test set: Average loss: 0.1555, Accuracy: 9545/10000 (95%)\n",
            "\n",
            "\n",
            "Test set: Average loss: 0.1483, Accuracy: 9546/10000 (95%)\n",
            "\n",
            "\n",
            "Test set: Average loss: 0.1457, Accuracy: 9560/10000 (96%)\n",
            "\n",
            "\n",
            "Test set: Average loss: 0.1424, Accuracy: 9570/10000 (96%)\n",
            "\n",
            "\n",
            "Test set: Average loss: 0.1411, Accuracy: 9571/10000 (96%)\n",
            "\n",
            "\n",
            "Test set: Average loss: 0.1403, Accuracy: 9574/10000 (96%)\n",
            "\n",
            "\n",
            "Test set: Average loss: 0.1391, Accuracy: 9572/10000 (96%)\n",
            "\n",
            "\n",
            "Test set: Average loss: 0.1393, Accuracy: 9574/10000 (96%)\n",
            "\n",
            "\n",
            "Test set: Average loss: 0.1386, Accuracy: 9578/10000 (96%)\n",
            "\n",
            "\n",
            "Test set: Average loss: 0.1379, Accuracy: 9580/10000 (96%)\n",
            "\n"
          ],
          "name": "stdout"
        }
      ]
    },
    {
      "cell_type": "code",
      "metadata": {
        "id": "xeaeh7W_2X8K",
        "colab_type": "code",
        "colab": {
          "base_uri": "https://localhost:8080/",
          "height": 207
        },
        "outputId": "6772b38d-7693-4881-ec26-7020e6bd37eb"
      },
      "source": [
        "print (avg_train_losses)\n",
        "print (avg_test_losses)\n",
        "print (avg_difference_test_train)\n",
        "print (avg_var_grad)"
      ],
      "execution_count": 4,
      "outputs": [
        {
          "output_type": "stream",
          "text": [
            "[[0.8670552924134155, 0.6715083279033408, 0.6354980897599769, 0.6156465685198093, 0.6036139454392461, 0.5959335783081597, 0.5909935224324606, 0.5874978139537488, 0.5853419856508196, 0.583672471997721, 0.5826157523204365, 0.5818005933722049, 0.5813203692895259, 0.5810472483954159], [0.43300891581092965, 0.2268103755110107, 0.18766772654790306, 0.16589207090967073, 0.1527995727691464, 0.14463042052930566, 0.13919387332282926, 0.13567486400517384, 0.13314877496370206, 0.13139232167735768, 0.1302789017884723, 0.12944362622849043, 0.12886045177542202, 0.12847051994601413], [0.4295198499220666, 0.22947994822645074, 0.19054604110736134, 0.16885579194679362, 0.15617784373550478, 0.1476996052542357, 0.1422264360827151, 0.13852177418203432, 0.13595267044053683, 0.13426527145243652, 0.133017151638583, 0.13221764036617573, 0.1316241988850431, 0.13124029561259312]]\n",
            "[[0.6931700736853728, 0.6466331979271712, 0.6223080076609447, 0.6133612314606928, 0.6044670920463124, 0.6020514659441201, 0.5955179449479291, 0.5953146579918588, 0.592903227563117, 0.5930473745628527, 0.5931567840135781, 0.5898884337419158, 0.5927256884848237, 0.5916577232111792], [0.24565654684593724, 0.20285967580831735, 0.17478666900639322, 0.16197852173428626, 0.15347150988449718, 0.14948306227945218, 0.14536808388438194, 0.14291628300669088, 0.1415404055481124, 0.14058528294798675, 0.1387530179682431, 0.13831040092334626, 0.13807497999280882, 0.13825444255475025], [0.24283058998311402, 0.20115987529420548, 0.17653565697229592, 0.16247418660456966, 0.15553652103634397, 0.1482710289490071, 0.14566435161859367, 0.142390977045533, 0.14109786011420997, 0.1403055009521117, 0.13905229775389288, 0.13929186986794898, 0.13860386187673374, 0.13793339138957345]]\n",
            "[array([-0.17388522, -0.02487513, -0.01319008, -0.00228534,  0.00085315,\n",
            "        0.00611789,  0.00452442,  0.00781684,  0.00756124,  0.0093749 ,\n",
            "        0.01054103,  0.00808784,  0.01140532,  0.01061047]), array([-0.18735237, -0.0239507 , -0.01288106, -0.00391355,  0.00067194,\n",
            "        0.00485264,  0.00617421,  0.00724142,  0.00839163,  0.00919296,\n",
            "        0.00847412,  0.00886677,  0.00921453,  0.00978392]), array([-0.18668926, -0.02832007, -0.01401038, -0.00638161, -0.00064132,\n",
            "        0.00057142,  0.00343792,  0.0038692 ,  0.00514519,  0.00604023,\n",
            "        0.00603515,  0.00707423,  0.00697966,  0.0066931 ])]\n",
            "[[tensor(1.4105), tensor(1.3919), tensor(1.3209), tensor(1.2573), tensor(1.2284), tensor(1.2043), tensor(1.1981), tensor(1.1932), tensor(1.1732), tensor(1.1679), tensor(1.1713), tensor(1.1662), tensor(1.1615), tensor(1.1656)], [tensor(1.8012), tensor(1.6877), tensor(1.5708), tensor(1.4930), tensor(1.4583), tensor(1.4166), tensor(1.3968), tensor(1.3868), tensor(1.3827), tensor(1.3643), tensor(1.3767), tensor(1.3681), tensor(1.3662), tensor(1.3621)], [tensor(1.8079), tensor(1.6996), tensor(1.5955), tensor(1.5123), tensor(1.4900), tensor(1.4408), tensor(1.4278), tensor(1.4070), tensor(1.3988), tensor(1.4010), tensor(1.4032), tensor(1.3858), tensor(1.3953), tensor(1.3901)]]\n"
          ],
          "name": "stdout"
        }
      ]
    },
    {
      "cell_type": "code",
      "metadata": {
        "id": "riLC3s-l2X-9",
        "colab_type": "code",
        "colab": {
          "base_uri": "https://localhost:8080/",
          "height": 266
        },
        "outputId": "fb7fc7f5-bd07-45ef-97f9-569fb76cd477"
      },
      "source": [
        "# Average over 3 random seeds\n",
        "avg_train_losses = np.mean(np.array(avg_train_losses), 0)\n",
        "avg_test_losses = np.mean(np.array(avg_test_losses), 0)\n",
        "avg_difference_test_train = np.mean(np.array(avg_difference_test_train), 0)\n",
        "avg_var_grad = np.mean(np.array(avg_var_grad), 0)\n",
        "\n",
        "\n",
        "# print (\"avg_train_losses:::\\n\", avg_train_losses)\n",
        "# print (\"avg_test_losses:::\\n\", avg_test_losses)\n",
        "print (\"average difference list::\\n\", avg_difference_test_train)\n"
      ],
      "execution_count": 5,
      "outputs": [
        {
          "output_type": "stream",
          "text": [
            "average difference list::\n",
            " [-0.18264228 -0.0257153  -0.01336051 -0.0041935   0.00029459  0.00384732\n",
            "  0.00471218  0.00630916  0.00703269  0.0082027   0.0083501   0.00800961\n",
            "  0.00919984  0.00902916]\n"
          ],
          "name": "stdout"
        },
        {
          "output_type": "error",
          "ename": "NameError",
          "evalue": "ignored",
          "traceback": [
            "\u001b[0;31m---------------------------------------------------------------------------\u001b[0m",
            "\u001b[0;31mNameError\u001b[0m                                 Traceback (most recent call last)",
            "\u001b[0;32m<ipython-input-5-4d5a2299e525>\u001b[0m in \u001b[0;36m<module>\u001b[0;34m()\u001b[0m\n\u001b[1;32m      9\u001b[0m \u001b[0;31m# print (\"avg_test_losses:::\\n\", avg_test_losses)\u001b[0m\u001b[0;34m\u001b[0m\u001b[0;34m\u001b[0m\u001b[0;34m\u001b[0m\u001b[0m\n\u001b[1;32m     10\u001b[0m \u001b[0mprint\u001b[0m \u001b[0;34m(\u001b[0m\u001b[0;34m\"average difference list::\\n\"\u001b[0m\u001b[0;34m,\u001b[0m \u001b[0mavg_difference_test_train\u001b[0m\u001b[0;34m)\u001b[0m\u001b[0;34m\u001b[0m\u001b[0;34m\u001b[0m\u001b[0m\n\u001b[0;32m---> 11\u001b[0;31m \u001b[0mprint\u001b[0m \u001b[0;34m(\u001b[0m\u001b[0;34m\"avg_var_gard::\\n\"\u001b[0m\u001b[0;34m,\u001b[0m \u001b[0mavg_var_gard\u001b[0m\u001b[0;34m)\u001b[0m\u001b[0;34m\u001b[0m\u001b[0;34m\u001b[0m\u001b[0m\n\u001b[0m",
            "\u001b[0;31mNameError\u001b[0m: name 'avg_var_gard' is not defined"
          ]
        }
      ]
    },
    {
      "cell_type": "code",
      "metadata": {
        "id": "sG0VMP3o8mQj",
        "colab_type": "code",
        "colab": {
          "base_uri": "https://localhost:8080/",
          "height": 68
        },
        "outputId": "b02a6891-af54-4fa9-8c29-e18fa0d5a248"
      },
      "source": [
        "print (\"avg_var_gard::\\n\", avg_var_grad)"
      ],
      "execution_count": 6,
      "outputs": [
        {
          "output_type": "stream",
          "text": [
            "avg_var_gard::\n",
            " [1.6731883 1.5930246 1.4957409 1.420867  1.3922323 1.3539358 1.3408984\n",
            " 1.3290349 1.318215  1.3110362 1.3170658 1.3066876 1.3076572 1.3059348]\n"
          ],
          "name": "stdout"
        }
      ]
    },
    {
      "cell_type": "code",
      "metadata": {
        "id": "iE9qLMHr2YB4",
        "colab_type": "code",
        "colab": {
          "base_uri": "https://localhost:8080/",
          "height": 295
        },
        "outputId": "5169e93a-3ec4-44df-a08b-2421d7f47dae"
      },
      "source": [
        "import numpy as np\n",
        "plt.plot(np.arange(epochs), avg_var_grad, marker='o', color = \"g\")\n",
        "plt.grid(True, linestyle='-.')\n",
        "plt.title(\"Variance of Gradients over different batch sizes\")\n",
        "plt.ylabel(\"Variance of gradients\")\n",
        "plt.xlabel(\"Epochs\")\n",
        "plt.show()\t  "
      ],
      "execution_count": 8,
      "outputs": [
        {
          "output_type": "display_data",
          "data": {
            "image/png": "[encoded data removed]",
            "text/plain": [
              "<Figure size 432x288 with 1 Axes>"
            ]
          },
          "metadata": {
            "tags": [],
            "needs_background": "light"
          }
        }
      ]
    },
    {
      "cell_type": "code",
      "metadata": {
        "id": "fVFLMBRJ2YE1",
        "colab_type": "code",
        "colab": {}
      },
      "source": [
        ""
      ],
      "execution_count": 0,
      "outputs": []
    },
    {
      "cell_type": "code",
      "metadata": {
        "id": "cX1skDv42YHd",
        "colab_type": "code",
        "colab": {}
      },
      "source": [
        ""
      ],
      "execution_count": 0,
      "outputs": []
    }
  ]
}