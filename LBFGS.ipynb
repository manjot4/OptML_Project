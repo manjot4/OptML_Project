{
 "cells": [
  {
   "cell_type": "code",
   "execution_count": null,
   "metadata": {},
   "outputs": [],
   "source": [
    "# Importing Libraries\n",
    "from __future__ import print_function\n",
    "import torch\n",
    "import torch.nn as nn\n",
    "import torch.nn.functional as F\n",
    "import torch.optim as optim\n",
    "from torchvision import datasets, transforms\n",
    "from torch.optim.lr_scheduler import StepLR\n",
    "import argparse, copy\n",
    "\n",
    "from model import *\n",
    "from utils import *\n",
    "from measures import *"
   ]
  },
  {
   "cell_type": "code",
   "execution_count": null,
   "metadata": {},
   "outputs": [],
   "source": [
    "%tensorflow_version 2.x\n",
    "import tensorflow as tf\n",
    "device = tf.test.gpu_device_name()\n",
    "if device != '/device:GPU:0':\n",
    "    raise SystemError('GPU device not found')\n",
    "print('Found GPU at: {}'.format(device))\n",
    "\n",
    "from google.colab import drive\n",
    "drive.mount('/content/drive')\n",
    "\n",
    "\n",
    "# pip install -e ."
   ]
  },
  {
   "cell_type": "code",
   "execution_count": null,
   "metadata": {},
   "outputs": [],
   "source": [
    "batch_size = 64\n",
    "test_batch_size = 1000\n",
    "epochs = 2\n",
    "lr = 1e-3\n",
    "gamma = 0.7\n",
    "seed = 12345\n",
    "torch.manual_seed(seed)\n",
    "device = torch.device(\"cuda\" if torch.cuda.is_available() else \"cpu\")\n",
    "\n",
    "use_cuda = torch.cuda.is_available()\n",
    "train_loader, test_loader = dataloaders(batch_size, use_cuda)\n",
    "print (len(train_loader))\n",
    "# for i in train_loader:\n",
    "#     x = i[0].view(64, -1, 28*28)\n",
    "#     print (x.size())\n",
    "#     break\n",
    "model_init = Net().to(device)\n",
    "# CHANGE AS APPROPRIATE\n",
    "optimizer = optim.SGD(model_init.parameters(), lr=lr)\n",
    "# optimizer = optim.LBFGS(model.parameters(), lr=lr)\n",
    "# scheduler = StepLR(optimizer, step_size=1, gamma=gamma)\n",
    "# saving checkpoints during/after training;;;can save other variables as well\n",
    "# checkpoint = {'state_dict': model.state_dict(),'optimizer': optimizer.state_dict()}\n",
    "train_losses, test_losses = [], []"
   ]
  },
  {
   "cell_type": "code",
   "execution_count": null,
   "metadata": {},
   "outputs": [],
   "source": [
    "# test accuracy problem.....\n",
    "def main():\n",
    "    train_size = 60032\n",
    "    sigmas = [1.0,2.0,3.0,4.0] # 1e-3, 1e-2, 1e-1, 1e-0\n",
    "    delta = 1e-2\n",
    "    mean = 0.0\n",
    "    l_weight_norms = []\n",
    "    l_sharpness = []\n",
    "    var_gradients = []  # maybe with respect to batch size.....\n",
    "    \"\"\"run for each sigma\"\"\"\n",
    "    for sigma in sigmas:\n",
    "        grads = []\n",
    "#         resetting model everytime\n",
    "        model = copy.deepcopy(model_init)\n",
    "        for epoch in range(1, epochs + 1):\n",
    "            train_loss = train(model, device, train_loader, optimizer, epoch, batch_size)\n",
    "            train_losses.append(train_loss)\n",
    "    #             save_checkpoint(checkpoint) #Change file path as appropriate\n",
    "            test_loss = test(model, device, test_loader, batch_size)\n",
    "            test_losses.append(test_loss)\n",
    "            # scheduler.step()\n",
    "            gradients = get_gradients(model)  # a list of values\n",
    "            grads.append(gradients) \n",
    "        variance_score = compute_grad_variance(grads)\n",
    "        var_gradients.append(variance_score)\n",
    "\n",
    "        weight_l2_norm = cal_l2_norm(model)\n",
    "        l_weight_norms.append(weight_l2_norm)\n",
    "        p_model = weight_pertubation(model, mean, sigma, device)\n",
    "        p_test_error = test(p_model, device, test_loader, batch_size)\n",
    "        sharpness = compute_sharpness(model, p_test_error, train_loss, weight_l2_norm, train_size, sigma, delta)\n",
    "        l_sharpness.append(sharpness)\n",
    "        show_losses(train_losses, test_losses)  \n",
    "    show_sharpness_norm(l_sharpness, l_weight_norms, sigmas)\n",
    "        \n",
    "if __name__ == '__main__':\n",
    "    main()        "
   ]
  }
 ],
 "metadata": {
  "kernelspec": {
   "display_name": "Python 3",
   "language": "python",
   "name": "python3"
  },
  "language_info": {
   "codemirror_mode": {
    "name": "ipython",
    "version": 3
   },
   "file_extension": ".py",
   "mimetype": "text/x-python",
   "name": "python",
   "nbconvert_exporter": "python",
   "pygments_lexer": "ipython3",
   "version": "3.7.0"
  }
 },
 "nbformat": 4,
 "nbformat_minor": 4
}
